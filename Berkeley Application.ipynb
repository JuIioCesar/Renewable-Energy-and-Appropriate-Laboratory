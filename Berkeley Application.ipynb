{
 "cells": [
  {
   "cell_type": "markdown",
   "metadata": {
    "focus": false,
    "id": "5a98758e-62a5-40f3-9e75-e323f88c545c"
   },
   "source": [
    "# Berkeley Application\n",
    "\n",
    "Julio César Guzmán Villanueva"
   ]
  },
  {
   "cell_type": "markdown",
   "metadata": {},
   "source": [
    "### 1\n",
    "\n",
    "`Escribe un python script que lea los archivos con los documentos adjuntos en el folder “datosdemanda.zip” y convierte de json a pandas dataframe cada archivo. Las columnas en el dataframe deberían de ser “hora”, “valorDemanda”, “valorPronostico”, y “valorGeneracion”. NOTA: El formato de los nombres de cada archivo en el .zip folder corresponde a la nomenclatura día/mes/año.`"
   ]
  },
  {
   "cell_type": "markdown",
   "metadata": {},
   "source": [
    "### Función para extraer zip file"
   ]
  },
  {
   "cell_type": "code",
   "execution_count": 87,
   "metadata": {
    "collapsed": true
   },
   "outputs": [],
   "source": [
    "import zipfile\n",
    "\n",
    "def extractZipFile(zipFileName):\n",
    "    archive = zipfile.ZipFile(zipFileName)\n",
    "    for file in archive.namelist():\n",
    "        archive.extract(file)"
   ]
  },
  {
   "cell_type": "markdown",
   "metadata": {},
   "source": [
    "### Función para obtener el nombre de todos los archivos en un directorio"
   ]
  },
  {
   "cell_type": "code",
   "execution_count": 88,
   "metadata": {
    "collapsed": true
   },
   "outputs": [],
   "source": [
    "from os import listdir\n",
    "from os.path import isfile, join\n",
    "\n",
    "def filesInDirectory(directoryName):\n",
    "    return [f for f in listdir(directoryName) if isfile(join(directoryName, f))]"
   ]
  },
  {
   "cell_type": "markdown",
   "metadata": {},
   "source": [
    "### Función para deplegar una lista de data frames"
   ]
  },
  {
   "cell_type": "code",
   "execution_count": 89,
   "metadata": {
    "collapsed": true
   },
   "outputs": [],
   "source": [
    "from IPython.display import display\n",
    "\n",
    "def displayDataFrames(dataFrames):\n",
    "    for dataFrame in dataFrames:\n",
    "        display(dataFrame)"
   ]
  },
  {
   "cell_type": "markdown",
   "metadata": {},
   "source": [
    "### Importar pandas para su uso posterior"
   ]
  },
  {
   "cell_type": "code",
   "execution_count": 90,
   "metadata": {
    "collapsed": true
   },
   "outputs": [],
   "source": [
    "import pandas"
   ]
  },
  {
   "cell_type": "markdown",
   "metadata": {},
   "source": [
    "### Funcion para obtener un pandas dataframe a partir de un archivo "
   ]
  },
  {
   "cell_type": "code",
   "execution_count": 91,
   "metadata": {
    "collapsed": true
   },
   "outputs": [],
   "source": [
    "def dataframeFromFileWithPath(path):\n",
    "    openFile = open(path, 'r')\n",
    "    fileContent = openFile.read()\n",
    "    dataframe = pandas.read_json(path_or_buf = fileContent)\n",
    "    return dataframe"
   ]
  },
  {
   "cell_type": "markdown",
   "metadata": {},
   "source": [
    "### Función para obtener el timestamp "
   ]
  },
  {
   "cell_type": "code",
   "execution_count": 92,
   "metadata": {
    "collapsed": true
   },
   "outputs": [],
   "source": [
    "def timeStamp(year = '', month = '', day = '', hour = ''):\n",
    "    dateString = \"{}-{}-{} {}:00\".format(day, month, year, hour)\n",
    "    return dateString"
   ]
  },
  {
   "cell_type": "markdown",
   "metadata": {},
   "source": [
    "### Función para obtener los dataframes de un directorio\n",
    "\n",
    "**Supuestos:**\n",
    "- La columna \"valorEnlace\" no aporta valor \n",
    "- El nombre del pais no aporta valor\n",
    "- El timestamp representa al periodo desde que se menciona en el stamp hasta una hora despues"
   ]
  },
  {
   "cell_type": "code",
   "execution_count": 93,
   "metadata": {
    "collapsed": true
   },
   "outputs": [],
   "source": [
    "def dataframesFromDirectory(directory):\n",
    "    dataframesFromDirectory = []\n",
    "    for file in filesInDirectory(directory):\n",
    "        fileRelativePath = join(directory, file)\n",
    "        dataframe = dataframeFromFileWithPath(fileRelativePath)\n",
    "        tokensInFileName = file.split('.')\n",
    "        day = tokensInFileName[0]\n",
    "        month = tokensInFileName[1]\n",
    "        year = tokensInFileName[2]\n",
    "        country = tokensInFileName[3]\n",
    "        \n",
    "        timeList = []\n",
    "        for currentIndex in range(len(dataframe.index)):\n",
    "            timeIndex = timeStamp(year = year, month = month, day = day, hour = str(dataframe.hora[currentIndex] - 1 % 24) )\n",
    "            timeList.append(timeIndex)\n",
    "        dataframe.index = pandas.Series(timeList)\n",
    "        \n",
    "        # Clean unused columns\n",
    "        dataframe = dataframe.drop('valorEnlace', 1)\n",
    "        dataframe = dataframe.drop('hora', 1)\n",
    "        \n",
    "        dataframesFromDirectory.append(dataframe)\n",
    "    return dataframesFromDirectory"
   ]
  },
  {
   "cell_type": "markdown",
   "metadata": {},
   "source": [
    "### Función para extraer datos de archivo zip y ponerlos en un dataframe"
   ]
  },
  {
   "cell_type": "code",
   "execution_count": 94,
   "metadata": {
    "collapsed": false,
    "focus": false,
    "id": "048fc57e-34f2-4a78-a015-745317d05c11",
    "scrolled": false
   },
   "outputs": [],
   "source": [
    "def allData():\n",
    "    dataFileName = \"datosdemanda\"\n",
    "    dataZipFileName = dataFileName + \".zip\"\n",
    "    extractZipFile(dataZipFileName)\n",
    "    dataDirectoryName = dataFileName\n",
    "    dataframes = dataframesFromDirectory(dataDirectoryName)\n",
    "    allData = pandas.concat(dataframes)\n",
    "    \n",
    "    #Turn data frame into a numeric one\n",
    "    allData = allData.apply(pandas.to_numeric, errors='coerce')\n",
    "    \n",
    "    #Turn index into date time\n",
    "    allData.index = allData.index.to_datetime()\n",
    "    \n",
    "    return allData"
   ]
  },
  {
   "cell_type": "markdown",
   "metadata": {
    "collapsed": false,
    "focus": true,
    "id": "f6ab49d9-9474-4fed-a674-c3f6f9194c4d"
   },
   "source": [
    "### 2\n",
    "```\n",
    "Crea un pandas dataframe único para todos los datos capturados en el dataframe. Muestra tu(s) línea(s) de código. Dale el nombre de “all_data_sin” a este dataframe.\n",
    "```\n"
   ]
  },
  {
   "cell_type": "code",
   "execution_count": 95,
   "metadata": {
    "collapsed": false
   },
   "outputs": [
    {
     "data": {
      "text/html": [
       "<div>\n",
       "<table border=\"1\" class=\"dataframe\">\n",
       "  <thead>\n",
       "    <tr style=\"text-align: right;\">\n",
       "      <th></th>\n",
       "      <th>valorDemanda</th>\n",
       "      <th>valorGeneracion</th>\n",
       "      <th>valorPronostico</th>\n",
       "    </tr>\n",
       "  </thead>\n",
       "  <tbody>\n",
       "    <tr>\n",
       "      <th>2016-01-05 00:00:00</th>\n",
       "      <td>33932.0</td>\n",
       "      <td>34007.0</td>\n",
       "      <td>35405</td>\n",
       "    </tr>\n",
       "    <tr>\n",
       "      <th>2016-01-05 01:00:00</th>\n",
       "      <td>32608.0</td>\n",
       "      <td>32686.0</td>\n",
       "      <td>35405</td>\n",
       "    </tr>\n",
       "    <tr>\n",
       "      <th>2016-01-05 02:00:00</th>\n",
       "      <td>31620.0</td>\n",
       "      <td>31688.0</td>\n",
       "      <td>35405</td>\n",
       "    </tr>\n",
       "    <tr>\n",
       "      <th>2016-01-05 03:00:00</th>\n",
       "      <td>30633.0</td>\n",
       "      <td>30712.0</td>\n",
       "      <td>35405</td>\n",
       "    </tr>\n",
       "    <tr>\n",
       "      <th>2016-01-05 04:00:00</th>\n",
       "      <td>30448.0</td>\n",
       "      <td>30529.0</td>\n",
       "      <td>35405</td>\n",
       "    </tr>\n",
       "    <tr>\n",
       "      <th>2016-01-05 05:00:00</th>\n",
       "      <td>30291.0</td>\n",
       "      <td>30376.0</td>\n",
       "      <td>35405</td>\n",
       "    </tr>\n",
       "    <tr>\n",
       "      <th>2016-01-05 06:00:00</th>\n",
       "      <td>30783.0</td>\n",
       "      <td>30859.0</td>\n",
       "      <td>35405</td>\n",
       "    </tr>\n",
       "    <tr>\n",
       "      <th>2016-01-05 07:00:00</th>\n",
       "      <td>30777.0</td>\n",
       "      <td>30860.0</td>\n",
       "      <td>35405</td>\n",
       "    </tr>\n",
       "    <tr>\n",
       "      <th>2016-01-05 08:00:00</th>\n",
       "      <td>31696.0</td>\n",
       "      <td>31779.0</td>\n",
       "      <td>35405</td>\n",
       "    </tr>\n",
       "    <tr>\n",
       "      <th>2016-01-05 09:00:00</th>\n",
       "      <td>32959.0</td>\n",
       "      <td>33042.0</td>\n",
       "      <td>35405</td>\n",
       "    </tr>\n",
       "    <tr>\n",
       "      <th>2016-01-05 10:00:00</th>\n",
       "      <td>33819.0</td>\n",
       "      <td>33904.0</td>\n",
       "      <td>35405</td>\n",
       "    </tr>\n",
       "    <tr>\n",
       "      <th>2016-01-05 11:00:00</th>\n",
       "      <td>34250.0</td>\n",
       "      <td>34334.0</td>\n",
       "      <td>35405</td>\n",
       "    </tr>\n",
       "    <tr>\n",
       "      <th>2016-01-05 12:00:00</th>\n",
       "      <td>34452.0</td>\n",
       "      <td>34538.0</td>\n",
       "      <td>35405</td>\n",
       "    </tr>\n",
       "    <tr>\n",
       "      <th>2016-01-05 13:00:00</th>\n",
       "      <td>34355.0</td>\n",
       "      <td>34446.0</td>\n",
       "      <td>35405</td>\n",
       "    </tr>\n",
       "    <tr>\n",
       "      <th>2016-01-05 14:00:00</th>\n",
       "      <td>34162.0</td>\n",
       "      <td>34251.0</td>\n",
       "      <td>35405</td>\n",
       "    </tr>\n",
       "    <tr>\n",
       "      <th>2016-01-05 15:00:00</th>\n",
       "      <td>33889.0</td>\n",
       "      <td>33975.0</td>\n",
       "      <td>35405</td>\n",
       "    </tr>\n",
       "    <tr>\n",
       "      <th>2016-01-05 16:00:00</th>\n",
       "      <td>33798.0</td>\n",
       "      <td>33886.0</td>\n",
       "      <td>35405</td>\n",
       "    </tr>\n",
       "    <tr>\n",
       "      <th>2016-01-05 17:00:00</th>\n",
       "      <td>33641.0</td>\n",
       "      <td>33727.0</td>\n",
       "      <td>35405</td>\n",
       "    </tr>\n",
       "    <tr>\n",
       "      <th>2016-01-05 18:00:00</th>\n",
       "      <td>33035.0</td>\n",
       "      <td>33124.0</td>\n",
       "      <td>35405</td>\n",
       "    </tr>\n",
       "    <tr>\n",
       "      <th>2016-01-05 19:00:00</th>\n",
       "      <td>33009.0</td>\n",
       "      <td>33107.0</td>\n",
       "      <td>35405</td>\n",
       "    </tr>\n",
       "    <tr>\n",
       "      <th>2016-01-05 20:00:00</th>\n",
       "      <td>35021.0</td>\n",
       "      <td>35102.0</td>\n",
       "      <td>35405</td>\n",
       "    </tr>\n",
       "    <tr>\n",
       "      <th>2016-01-05 21:00:00</th>\n",
       "      <td>35630.0</td>\n",
       "      <td>35703.0</td>\n",
       "      <td>35405</td>\n",
       "    </tr>\n",
       "    <tr>\n",
       "      <th>2016-01-05 22:00:00</th>\n",
       "      <td>34721.0</td>\n",
       "      <td>34797.0</td>\n",
       "      <td>35405</td>\n",
       "    </tr>\n",
       "    <tr>\n",
       "      <th>2016-01-05 23:00:00</th>\n",
       "      <td>NaN</td>\n",
       "      <td>NaN</td>\n",
       "      <td>35405</td>\n",
       "    </tr>\n",
       "    <tr>\n",
       "      <th>2016-02-05 00:00:00</th>\n",
       "      <td>31585.0</td>\n",
       "      <td>31652.0</td>\n",
       "      <td>35405</td>\n",
       "    </tr>\n",
       "    <tr>\n",
       "      <th>2016-02-05 01:00:00</th>\n",
       "      <td>30265.0</td>\n",
       "      <td>30349.0</td>\n",
       "      <td>35405</td>\n",
       "    </tr>\n",
       "    <tr>\n",
       "      <th>2016-02-05 02:00:00</th>\n",
       "      <td>29299.0</td>\n",
       "      <td>29378.0</td>\n",
       "      <td>35405</td>\n",
       "    </tr>\n",
       "    <tr>\n",
       "      <th>2016-02-05 03:00:00</th>\n",
       "      <td>28671.0</td>\n",
       "      <td>28761.0</td>\n",
       "      <td>35405</td>\n",
       "    </tr>\n",
       "    <tr>\n",
       "      <th>2016-02-05 04:00:00</th>\n",
       "      <td>28180.0</td>\n",
       "      <td>28258.0</td>\n",
       "      <td>35405</td>\n",
       "    </tr>\n",
       "    <tr>\n",
       "      <th>2016-02-05 05:00:00</th>\n",
       "      <td>27684.0</td>\n",
       "      <td>27766.0</td>\n",
       "      <td>35405</td>\n",
       "    </tr>\n",
       "    <tr>\n",
       "      <th>...</th>\n",
       "      <td>...</td>\n",
       "      <td>...</td>\n",
       "      <td>...</td>\n",
       "    </tr>\n",
       "    <tr>\n",
       "      <th>2016-04-29 18:00:00</th>\n",
       "      <td>37089.0</td>\n",
       "      <td>37126.0</td>\n",
       "      <td>36005</td>\n",
       "    </tr>\n",
       "    <tr>\n",
       "      <th>2016-04-29 19:00:00</th>\n",
       "      <td>36274.0</td>\n",
       "      <td>36312.0</td>\n",
       "      <td>35548</td>\n",
       "    </tr>\n",
       "    <tr>\n",
       "      <th>2016-04-29 20:00:00</th>\n",
       "      <td>37514.0</td>\n",
       "      <td>37562.0</td>\n",
       "      <td>36730</td>\n",
       "    </tr>\n",
       "    <tr>\n",
       "      <th>2016-04-29 21:00:00</th>\n",
       "      <td>38031.0</td>\n",
       "      <td>38075.0</td>\n",
       "      <td>37192</td>\n",
       "    </tr>\n",
       "    <tr>\n",
       "      <th>2016-04-29 22:00:00</th>\n",
       "      <td>37496.0</td>\n",
       "      <td>37526.0</td>\n",
       "      <td>36766</td>\n",
       "    </tr>\n",
       "    <tr>\n",
       "      <th>2016-04-29 23:00:00</th>\n",
       "      <td>NaN</td>\n",
       "      <td>NaN</td>\n",
       "      <td>35364</td>\n",
       "    </tr>\n",
       "    <tr>\n",
       "      <th>2016-04-30 00:00:00</th>\n",
       "      <td>34393.0</td>\n",
       "      <td>34456.0</td>\n",
       "      <td>33692</td>\n",
       "    </tr>\n",
       "    <tr>\n",
       "      <th>2016-04-30 01:00:00</th>\n",
       "      <td>32877.0</td>\n",
       "      <td>32952.0</td>\n",
       "      <td>32361</td>\n",
       "    </tr>\n",
       "    <tr>\n",
       "      <th>2016-04-30 02:00:00</th>\n",
       "      <td>32034.0</td>\n",
       "      <td>32117.0</td>\n",
       "      <td>31450</td>\n",
       "    </tr>\n",
       "    <tr>\n",
       "      <th>2016-04-30 03:00:00</th>\n",
       "      <td>31346.0</td>\n",
       "      <td>31424.0</td>\n",
       "      <td>30741</td>\n",
       "    </tr>\n",
       "    <tr>\n",
       "      <th>2016-04-30 04:00:00</th>\n",
       "      <td>31140.0</td>\n",
       "      <td>31227.0</td>\n",
       "      <td>30466</td>\n",
       "    </tr>\n",
       "    <tr>\n",
       "      <th>2016-04-30 05:00:00</th>\n",
       "      <td>31310.0</td>\n",
       "      <td>31393.0</td>\n",
       "      <td>30669</td>\n",
       "    </tr>\n",
       "    <tr>\n",
       "      <th>2016-04-30 06:00:00</th>\n",
       "      <td>32276.0</td>\n",
       "      <td>32357.0</td>\n",
       "      <td>31905</td>\n",
       "    </tr>\n",
       "    <tr>\n",
       "      <th>2016-04-30 07:00:00</th>\n",
       "      <td>32730.0</td>\n",
       "      <td>32801.0</td>\n",
       "      <td>32571</td>\n",
       "    </tr>\n",
       "    <tr>\n",
       "      <th>2016-04-30 08:00:00</th>\n",
       "      <td>34041.0</td>\n",
       "      <td>34105.0</td>\n",
       "      <td>33588</td>\n",
       "    </tr>\n",
       "    <tr>\n",
       "      <th>2016-04-30 09:00:00</th>\n",
       "      <td>35460.0</td>\n",
       "      <td>35538.0</td>\n",
       "      <td>34963</td>\n",
       "    </tr>\n",
       "    <tr>\n",
       "      <th>2016-04-30 10:00:00</th>\n",
       "      <td>36178.0</td>\n",
       "      <td>36231.0</td>\n",
       "      <td>35766</td>\n",
       "    </tr>\n",
       "    <tr>\n",
       "      <th>2016-04-30 11:00:00</th>\n",
       "      <td>36991.0</td>\n",
       "      <td>37090.0</td>\n",
       "      <td>36454</td>\n",
       "    </tr>\n",
       "    <tr>\n",
       "      <th>2016-04-30 12:00:00</th>\n",
       "      <td>37574.0</td>\n",
       "      <td>37672.0</td>\n",
       "      <td>36863</td>\n",
       "    </tr>\n",
       "    <tr>\n",
       "      <th>2016-04-30 13:00:00</th>\n",
       "      <td>37837.0</td>\n",
       "      <td>37924.0</td>\n",
       "      <td>37152</td>\n",
       "    </tr>\n",
       "    <tr>\n",
       "      <th>2016-04-30 14:00:00</th>\n",
       "      <td>37796.0</td>\n",
       "      <td>37887.0</td>\n",
       "      <td>37403</td>\n",
       "    </tr>\n",
       "    <tr>\n",
       "      <th>2016-04-30 15:00:00</th>\n",
       "      <td>37667.0</td>\n",
       "      <td>37767.0</td>\n",
       "      <td>37551</td>\n",
       "    </tr>\n",
       "    <tr>\n",
       "      <th>2016-04-30 16:00:00</th>\n",
       "      <td>37718.0</td>\n",
       "      <td>37811.0</td>\n",
       "      <td>37585</td>\n",
       "    </tr>\n",
       "    <tr>\n",
       "      <th>2016-04-30 17:00:00</th>\n",
       "      <td>37175.0</td>\n",
       "      <td>37260.0</td>\n",
       "      <td>37073</td>\n",
       "    </tr>\n",
       "    <tr>\n",
       "      <th>2016-04-30 18:00:00</th>\n",
       "      <td>36148.0</td>\n",
       "      <td>36231.0</td>\n",
       "      <td>35837</td>\n",
       "    </tr>\n",
       "    <tr>\n",
       "      <th>2016-04-30 19:00:00</th>\n",
       "      <td>35590.0</td>\n",
       "      <td>35727.0</td>\n",
       "      <td>35235</td>\n",
       "    </tr>\n",
       "    <tr>\n",
       "      <th>2016-04-30 20:00:00</th>\n",
       "      <td>36611.0</td>\n",
       "      <td>36727.0</td>\n",
       "      <td>36275</td>\n",
       "    </tr>\n",
       "    <tr>\n",
       "      <th>2016-04-30 21:00:00</th>\n",
       "      <td>36892.0</td>\n",
       "      <td>36980.0</td>\n",
       "      <td>36776</td>\n",
       "    </tr>\n",
       "    <tr>\n",
       "      <th>2016-04-30 22:00:00</th>\n",
       "      <td>36539.0</td>\n",
       "      <td>36619.0</td>\n",
       "      <td>36313</td>\n",
       "    </tr>\n",
       "    <tr>\n",
       "      <th>2016-04-30 23:00:00</th>\n",
       "      <td>NaN</td>\n",
       "      <td>NaN</td>\n",
       "      <td>35405</td>\n",
       "    </tr>\n",
       "  </tbody>\n",
       "</table>\n",
       "<p>744 rows × 3 columns</p>\n",
       "</div>"
      ],
      "text/plain": [
       "                     valorDemanda  valorGeneracion  valorPronostico\n",
       "2016-01-05 00:00:00       33932.0          34007.0            35405\n",
       "2016-01-05 01:00:00       32608.0          32686.0            35405\n",
       "2016-01-05 02:00:00       31620.0          31688.0            35405\n",
       "2016-01-05 03:00:00       30633.0          30712.0            35405\n",
       "2016-01-05 04:00:00       30448.0          30529.0            35405\n",
       "2016-01-05 05:00:00       30291.0          30376.0            35405\n",
       "2016-01-05 06:00:00       30783.0          30859.0            35405\n",
       "2016-01-05 07:00:00       30777.0          30860.0            35405\n",
       "2016-01-05 08:00:00       31696.0          31779.0            35405\n",
       "2016-01-05 09:00:00       32959.0          33042.0            35405\n",
       "2016-01-05 10:00:00       33819.0          33904.0            35405\n",
       "2016-01-05 11:00:00       34250.0          34334.0            35405\n",
       "2016-01-05 12:00:00       34452.0          34538.0            35405\n",
       "2016-01-05 13:00:00       34355.0          34446.0            35405\n",
       "2016-01-05 14:00:00       34162.0          34251.0            35405\n",
       "2016-01-05 15:00:00       33889.0          33975.0            35405\n",
       "2016-01-05 16:00:00       33798.0          33886.0            35405\n",
       "2016-01-05 17:00:00       33641.0          33727.0            35405\n",
       "2016-01-05 18:00:00       33035.0          33124.0            35405\n",
       "2016-01-05 19:00:00       33009.0          33107.0            35405\n",
       "2016-01-05 20:00:00       35021.0          35102.0            35405\n",
       "2016-01-05 21:00:00       35630.0          35703.0            35405\n",
       "2016-01-05 22:00:00       34721.0          34797.0            35405\n",
       "2016-01-05 23:00:00           NaN              NaN            35405\n",
       "2016-02-05 00:00:00       31585.0          31652.0            35405\n",
       "2016-02-05 01:00:00       30265.0          30349.0            35405\n",
       "2016-02-05 02:00:00       29299.0          29378.0            35405\n",
       "2016-02-05 03:00:00       28671.0          28761.0            35405\n",
       "2016-02-05 04:00:00       28180.0          28258.0            35405\n",
       "2016-02-05 05:00:00       27684.0          27766.0            35405\n",
       "...                           ...              ...              ...\n",
       "2016-04-29 18:00:00       37089.0          37126.0            36005\n",
       "2016-04-29 19:00:00       36274.0          36312.0            35548\n",
       "2016-04-29 20:00:00       37514.0          37562.0            36730\n",
       "2016-04-29 21:00:00       38031.0          38075.0            37192\n",
       "2016-04-29 22:00:00       37496.0          37526.0            36766\n",
       "2016-04-29 23:00:00           NaN              NaN            35364\n",
       "2016-04-30 00:00:00       34393.0          34456.0            33692\n",
       "2016-04-30 01:00:00       32877.0          32952.0            32361\n",
       "2016-04-30 02:00:00       32034.0          32117.0            31450\n",
       "2016-04-30 03:00:00       31346.0          31424.0            30741\n",
       "2016-04-30 04:00:00       31140.0          31227.0            30466\n",
       "2016-04-30 05:00:00       31310.0          31393.0            30669\n",
       "2016-04-30 06:00:00       32276.0          32357.0            31905\n",
       "2016-04-30 07:00:00       32730.0          32801.0            32571\n",
       "2016-04-30 08:00:00       34041.0          34105.0            33588\n",
       "2016-04-30 09:00:00       35460.0          35538.0            34963\n",
       "2016-04-30 10:00:00       36178.0          36231.0            35766\n",
       "2016-04-30 11:00:00       36991.0          37090.0            36454\n",
       "2016-04-30 12:00:00       37574.0          37672.0            36863\n",
       "2016-04-30 13:00:00       37837.0          37924.0            37152\n",
       "2016-04-30 14:00:00       37796.0          37887.0            37403\n",
       "2016-04-30 15:00:00       37667.0          37767.0            37551\n",
       "2016-04-30 16:00:00       37718.0          37811.0            37585\n",
       "2016-04-30 17:00:00       37175.0          37260.0            37073\n",
       "2016-04-30 18:00:00       36148.0          36231.0            35837\n",
       "2016-04-30 19:00:00       35590.0          35727.0            35235\n",
       "2016-04-30 20:00:00       36611.0          36727.0            36275\n",
       "2016-04-30 21:00:00       36892.0          36980.0            36776\n",
       "2016-04-30 22:00:00       36539.0          36619.0            36313\n",
       "2016-04-30 23:00:00           NaN              NaN            35405\n",
       "\n",
       "[744 rows x 3 columns]"
      ]
     },
     "metadata": {},
     "output_type": "display_data"
    }
   ],
   "source": [
    "all_data_sin = allData()\n",
    "display(all_data_sin)"
   ]
  },
  {
   "cell_type": "markdown",
   "metadata": {
    "collapsed": true,
    "focus": false,
    "id": "55b3cfbe-fb56-4257-a005-580d739f8a7a"
   },
   "source": [
    "### 3\n",
    "```\n",
    "Ahora, algunas estadísticas descriptivas de los datos que tienes en el dataframe:\n",
    "\n",
    "a.     Como varia la demanda durante la semana?\n",
    "\n",
    "b.     Cuales son las horas pico?\n",
    "\n",
    "c.     Cuales son los días pico?\n",
    "\n",
    "d.     Cual es la relación entre el pronostico y la demanda? Entre la demanda y la generación?\n",
    "\n",
    "```"
   ]
  },
  {
   "cell_type": "markdown",
   "metadata": {},
   "source": [
    "### Agregar modulo de graficación"
   ]
  },
  {
   "cell_type": "code",
   "execution_count": 96,
   "metadata": {
    "collapsed": false
   },
   "outputs": [],
   "source": [
    "%matplotlib inline\n",
    "import matplotlib.pyplot "
   ]
  },
  {
   "cell_type": "markdown",
   "metadata": {},
   "source": [
    "### 3.a Variación de la demanda durante la semana"
   ]
  },
  {
   "cell_type": "code",
   "execution_count": 97,
   "metadata": {
    "collapsed": false
   },
   "outputs": [
    {
     "data": {
      "image/png": "[encoded data removed]",
      "text/plain": [
       "<matplotlib.figure.Figure at 0x11533a908>"
      ]
     },
     "metadata": {},
     "output_type": "display_data"
    }
   ],
   "source": [
    "def main():\n",
    "    data = allData()\n",
    "    data['weekday'] = data.index.weekday\n",
    "    data.groupby('weekday')['valorDemanda'].mean().plot()\n",
    "    \n",
    "    \n",
    "if __name__ == \"__main__\":\n",
    "    main()"
   ]
  },
  {
   "cell_type": "markdown",
   "metadata": {},
   "source": [
    "### 3.b Horas pico de la demanda\n",
    "\n",
    "Al auxiliarnos del gráfico y la siguiente tabla podemos apreciar que las horas pico en el timestamp son a las 21 y 16 hrs. Pero debido al ajuste que realicé para poder utilizar el timestamp **las horas pico son los periodos que ocurren entre las 21 a las 22 horas y  de 16 a 17 hrs.**"
   ]
  },
  {
   "cell_type": "code",
   "execution_count": 98,
   "metadata": {
    "collapsed": false
   },
   "outputs": [
    {
     "data": {
      "text/html": [
       "<div>\n",
       "<table border=\"1\" class=\"dataframe\">\n",
       "  <thead>\n",
       "    <tr style=\"text-align: right;\">\n",
       "      <th></th>\n",
       "      <th>valorDemanda</th>\n",
       "      <th>valorGeneracion</th>\n",
       "      <th>valorPronostico</th>\n",
       "    </tr>\n",
       "    <tr>\n",
       "      <th>hour</th>\n",
       "      <th></th>\n",
       "      <th></th>\n",
       "      <th></th>\n",
       "    </tr>\n",
       "  </thead>\n",
       "  <tbody>\n",
       "    <tr>\n",
       "      <th>21</th>\n",
       "      <td>35988.580645</td>\n",
       "      <td>36038.741935</td>\n",
       "      <td>35584.741935</td>\n",
       "    </tr>\n",
       "    <tr>\n",
       "      <th>20</th>\n",
       "      <td>35575.064516</td>\n",
       "      <td>35627.387097</td>\n",
       "      <td>35354.741935</td>\n",
       "    </tr>\n",
       "    <tr>\n",
       "      <th>16</th>\n",
       "      <td>35570.354839</td>\n",
       "      <td>35631.225806</td>\n",
       "      <td>35208.193548</td>\n",
       "    </tr>\n",
       "    <tr>\n",
       "      <th>15</th>\n",
       "      <td>35500.645161</td>\n",
       "      <td>35562.451613</td>\n",
       "      <td>35215.774194</td>\n",
       "    </tr>\n",
       "    <tr>\n",
       "      <th>14</th>\n",
       "      <td>35393.774194</td>\n",
       "      <td>35592.129032</td>\n",
       "      <td>35138.000000</td>\n",
       "    </tr>\n",
       "    <tr>\n",
       "      <th>22</th>\n",
       "      <td>35372.612903</td>\n",
       "      <td>35414.290323</td>\n",
       "      <td>35200.903226</td>\n",
       "    </tr>\n",
       "    <tr>\n",
       "      <th>13</th>\n",
       "      <td>35303.645161</td>\n",
       "      <td>35475.032258</td>\n",
       "      <td>35055.806452</td>\n",
       "    </tr>\n",
       "    <tr>\n",
       "      <th>17</th>\n",
       "      <td>35197.451613</td>\n",
       "      <td>35253.000000</td>\n",
       "      <td>35000.258065</td>\n",
       "    </tr>\n",
       "    <tr>\n",
       "      <th>12</th>\n",
       "      <td>35060.000000</td>\n",
       "      <td>35127.000000</td>\n",
       "      <td>34932.548387</td>\n",
       "    </tr>\n",
       "    <tr>\n",
       "      <th>11</th>\n",
       "      <td>34617.967742</td>\n",
       "      <td>34684.516129</td>\n",
       "      <td>34646.903226</td>\n",
       "    </tr>\n",
       "    <tr>\n",
       "      <th>18</th>\n",
       "      <td>34431.483871</td>\n",
       "      <td>34481.161290</td>\n",
       "      <td>34538.903226</td>\n",
       "    </tr>\n",
       "    <tr>\n",
       "      <th>19</th>\n",
       "      <td>34189.096774</td>\n",
       "      <td>34241.612903</td>\n",
       "      <td>34436.225806</td>\n",
       "    </tr>\n",
       "    <tr>\n",
       "      <th>10</th>\n",
       "      <td>33932.225806</td>\n",
       "      <td>33994.000000</td>\n",
       "      <td>34230.806452</td>\n",
       "    </tr>\n",
       "    <tr>\n",
       "      <th>9</th>\n",
       "      <td>33018.322581</td>\n",
       "      <td>33077.322581</td>\n",
       "      <td>33668.451613</td>\n",
       "    </tr>\n",
       "    <tr>\n",
       "      <th>0</th>\n",
       "      <td>32070.935484</td>\n",
       "      <td>32132.032258</td>\n",
       "      <td>33053.741935</td>\n",
       "    </tr>\n",
       "    <tr>\n",
       "      <th>8</th>\n",
       "      <td>31814.161290</td>\n",
       "      <td>31870.967742</td>\n",
       "      <td>32950.483871</td>\n",
       "    </tr>\n",
       "    <tr>\n",
       "      <th>7</th>\n",
       "      <td>30861.548387</td>\n",
       "      <td>30918.612903</td>\n",
       "      <td>32477.354839</td>\n",
       "    </tr>\n",
       "    <tr>\n",
       "      <th>1</th>\n",
       "      <td>30787.645161</td>\n",
       "      <td>30855.258065</td>\n",
       "      <td>32244.000000</td>\n",
       "    </tr>\n",
       "    <tr>\n",
       "      <th>6</th>\n",
       "      <td>30303.483871</td>\n",
       "      <td>30362.967742</td>\n",
       "      <td>32015.903226</td>\n",
       "    </tr>\n",
       "    <tr>\n",
       "      <th>2</th>\n",
       "      <td>29891.290323</td>\n",
       "      <td>29957.870968</td>\n",
       "      <td>31707.387097</td>\n",
       "    </tr>\n",
       "    <tr>\n",
       "      <th>5</th>\n",
       "      <td>29358.548387</td>\n",
       "      <td>29429.516129</td>\n",
       "      <td>31388.741935</td>\n",
       "    </tr>\n",
       "    <tr>\n",
       "      <th>3</th>\n",
       "      <td>29350.000000</td>\n",
       "      <td>29418.032258</td>\n",
       "      <td>31364.290323</td>\n",
       "    </tr>\n",
       "    <tr>\n",
       "      <th>4</th>\n",
       "      <td>29145.258065</td>\n",
       "      <td>29214.612903</td>\n",
       "      <td>31229.935484</td>\n",
       "    </tr>\n",
       "    <tr>\n",
       "      <th>23</th>\n",
       "      <td>NaN</td>\n",
       "      <td>NaN</td>\n",
       "      <td>34378.258065</td>\n",
       "    </tr>\n",
       "  </tbody>\n",
       "</table>\n",
       "</div>"
      ],
      "text/plain": [
       "      valorDemanda  valorGeneracion  valorPronostico\n",
       "hour                                                \n",
       "21    35988.580645     36038.741935     35584.741935\n",
       "20    35575.064516     35627.387097     35354.741935\n",
       "16    35570.354839     35631.225806     35208.193548\n",
       "15    35500.645161     35562.451613     35215.774194\n",
       "14    35393.774194     35592.129032     35138.000000\n",
       "22    35372.612903     35414.290323     35200.903226\n",
       "13    35303.645161     35475.032258     35055.806452\n",
       "17    35197.451613     35253.000000     35000.258065\n",
       "12    35060.000000     35127.000000     34932.548387\n",
       "11    34617.967742     34684.516129     34646.903226\n",
       "18    34431.483871     34481.161290     34538.903226\n",
       "19    34189.096774     34241.612903     34436.225806\n",
       "10    33932.225806     33994.000000     34230.806452\n",
       "9     33018.322581     33077.322581     33668.451613\n",
       "0     32070.935484     32132.032258     33053.741935\n",
       "8     31814.161290     31870.967742     32950.483871\n",
       "7     30861.548387     30918.612903     32477.354839\n",
       "1     30787.645161     30855.258065     32244.000000\n",
       "6     30303.483871     30362.967742     32015.903226\n",
       "2     29891.290323     29957.870968     31707.387097\n",
       "5     29358.548387     29429.516129     31388.741935\n",
       "3     29350.000000     29418.032258     31364.290323\n",
       "4     29145.258065     29214.612903     31229.935484\n",
       "23             NaN              NaN     34378.258065"
      ]
     },
     "metadata": {},
     "output_type": "display_data"
    },
    {
     "data": {
      "image/png": "[encoded data removed]",
      "text/plain": [
       "<matplotlib.figure.Figure at 0x11537e9e8>"
      ]
     },
     "metadata": {},
     "output_type": "display_data"
    }
   ],
   "source": [
    "def main():\n",
    "    data = allData()\n",
    "    data['hour'] = data.index.hour\n",
    "    display(data.groupby('hour').mean().sort_values('valorDemanda', ascending = False))\n",
    "    data.groupby('hour')['valorDemanda'].mean().plot()\n",
    "    \n",
    "if __name__ == \"__main__\":\n",
    "    main()"
   ]
  },
  {
   "cell_type": "markdown",
   "metadata": {},
   "source": [
    "### 3.c Dias pico\n",
    "\n",
    "Por a la gráfica del punto 3.a, donde el 0 representa a el lunes. Sabemos que los dias pico de la semana son los **jueves** y los **sábados** "
   ]
  },
  {
   "cell_type": "markdown",
   "metadata": {},
   "source": [
    "### 3.d Correlación de Pearson"
   ]
  },
  {
   "cell_type": "code",
   "execution_count": 99,
   "metadata": {
    "collapsed": false
   },
   "outputs": [
    {
     "name": "stdout",
     "output_type": "stream",
     "text": [
      "                 valorDemanda  valorGeneracion  valorPronostico\n",
      "valorDemanda         1.000000         0.997834         0.717336\n",
      "valorGeneracion      0.997834         1.000000         0.717591\n",
      "valorPronostico      0.717336         0.717591         1.000000\n"
     ]
    }
   ],
   "source": [
    "def main():\n",
    "    data = allData()\n",
    "    print(data.corr(method='pearson'))\n",
    "    \n",
    "if __name__ == \"__main__\":\n",
    "    main()\n",
    "\n"
   ]
  },
  {
   "cell_type": "markdown",
   "metadata": {
    "collapsed": false,
    "focus": false,
    "id": "25fc451d-338f-4300-9c81-746771f9a36d"
   },
   "source": [
    "### 4\n",
    "```\n",
    "Genera 5 gráficos que describan y visualicen los datos. Pueden ser los que tu quieras (scatter, line, box plots, etc.) para describir la variabilidad y estructura de los datos. Puedes ser tan original como quieras!\n",
    "\n",
    "```"
   ]
  },
  {
   "cell_type": "markdown",
   "metadata": {},
   "source": [
    "### Demanda\n",
    "\n",
    "Cuando graficamos la demanda podemos apreciar que los datos no son completos y en abril encontramos una mayor densidad de datos lo cual tiene un efecto sobre los resultados de las horas y los dias pico ya que estos tenderán a ser más como los de los dato del mes mayo. Para ajustar el resultado se podria normalizar el numero de muestras por mes y luego hacer el promedio."
   ]
  },
  {
   "cell_type": "code",
   "execution_count": 100,
   "metadata": {
    "collapsed": false
   },
   "outputs": [
    {
     "data": {
      "image/png": "[encoded data removed]",
      "text/plain": [
       "<matplotlib.figure.Figure at 0x115e3d710>"
      ]
     },
     "metadata": {},
     "output_type": "display_data"
    }
   ],
   "source": [
    "def main():\n",
    "    data = allData()\n",
    "    data['valorDemanda'].plot()\n",
    "    \n",
    "if __name__ == \"__main__\":\n",
    "    main()"
   ]
  },
  {
   "cell_type": "markdown",
   "metadata": {},
   "source": [
    "### Generación\n",
    "\n",
    "En la grafica de la generación de energia nos encontramos con el mismo artefacto de densidad que se podría tratar de misma manera que el anterior. Tambien en el mes de marzo tenemos un maximo interesante. Para un analisis posterior en el que se tenga más volumen de datos se podrían tomar muestras de maximos y minimos para poder decir si ese máximo es en realidad una anomalía, o un error de medición. "
   ]
  },
  {
   "cell_type": "code",
   "execution_count": 101,
   "metadata": {
    "collapsed": false
   },
   "outputs": [
    {
     "data": {
      "image/png": "[encoded data removed]",
      "text/plain": [
       "<matplotlib.figure.Figure at 0x115cbeac8>"
      ]
     },
     "metadata": {},
     "output_type": "display_data"
    }
   ],
   "source": [
    "def main():\n",
    "    data = allData()\n",
    "    data['valorGeneracion'].plot()\n",
    "    \n",
    "if __name__ == \"__main__\":\n",
    "    main()"
   ]
  },
  {
   "cell_type": "markdown",
   "metadata": {},
   "source": [
    "### Pronóstico\n",
    "\n",
    "En la gráfica del pronóstico podemos encontrar el artefacto causado por la densidad de muestreo. El cual es interesante en esta gráfica por que aparenta que existe una relación que puede que pero no necesariamente este ligada a una causalidad entre la densidad de muestras de demanda y/o generación de energia y la variación en el pronostico. Tambien podría estar siendo afectada por otros factores que no forman parte de este sistema debido a las variaciones al final de la gráfica."
   ]
  },
  {
   "cell_type": "code",
   "execution_count": 102,
   "metadata": {
    "collapsed": false
   },
   "outputs": [
    {
     "data": {
      "image/png": "[encoded data removed]",
      "text/plain": [
       "<matplotlib.figure.Figure at 0x115e3a7b8>"
      ]
     },
     "metadata": {},
     "output_type": "display_data"
    }
   ],
   "source": [
    "def main():\n",
    "    data = allData()\n",
    "    data['valorPronostico'].plot()\n",
    "    \n",
    "if __name__ == \"__main__\":\n",
    "    main()"
   ]
  },
  {
   "cell_type": "markdown",
   "metadata": {},
   "source": [
    "### Demanda vs. Generación\n",
    "\n",
    "La correlación de Pearson que existe entre la demanda y la generación es 0.997834. Esto no implica causalidad entre las dos variables. Tambien podemos ver dos puntos que se separan de la recta que relaciona a la demanda y la generación. Que podría implicar que hubo una gran demanda pero no fue abastecida, errores de medición, o falta de veracidad en los datos en cierta proporción."
   ]
  },
  {
   "cell_type": "code",
   "execution_count": 103,
   "metadata": {
    "collapsed": false
   },
   "outputs": [
    {
     "data": {
      "image/png": "[encoded data removed]",
      "text/plain": [
       "<matplotlib.figure.Figure at 0x115718588>"
      ]
     },
     "metadata": {},
     "output_type": "display_data"
    }
   ],
   "source": [
    "def main():\n",
    "    data = allData()\n",
    "    matplotlib.pyplot.scatter(data['valorDemanda'], data['valorGeneracion'])\n",
    "    matplotlib.pyplot.show()\n",
    "    \n",
    "if __name__ == \"__main__\":\n",
    "    main()"
   ]
  },
  {
   "cell_type": "markdown",
   "metadata": {},
   "source": [
    "### Pronóstico vs. Generación\n",
    "\n",
    "El modelo de pronóstico presenta algunos artefactos los cuales podrían ser causados por alguna clase de entrenamiento. Como acción se podría corregir el modelo de predicción. Para esta gráfica asumo que el pronóstico se realiza en la generación pero tambien podría ser la demanda. Despues de todo nada me garantiza la veracidad de los datos ni de los nombres de las columnas. "
   ]
  },
  {
   "cell_type": "code",
   "execution_count": 104,
   "metadata": {
    "collapsed": false
   },
   "outputs": [
    {
     "data": {
      "image/png": "[encoded data removed]",
      "text/plain": [
       "<matplotlib.figure.Figure at 0x11571a208>"
      ]
     },
     "metadata": {},
     "output_type": "display_data"
    }
   ],
   "source": [
    "def main():\n",
    "    data = allData()\n",
    "    matplotlib.pyplot.scatter(data['valorPronostico'], data['valorGeneracion'])\n",
    "    matplotlib.pyplot.show()\n",
    "    \n",
    "if __name__ == \"__main__\":\n",
    "    main()"
   ]
  },
  {
   "cell_type": "markdown",
   "metadata": {
    "collapsed": false,
    "focus": false,
    "id": "39012d33-b844-420f-9d84-112aab63a723"
   },
   "source": [
    "### 5\n",
    "```\n",
    "Muchas veces encontramos información limitada y tenemos que asumir diferentes supuestos. Los datos que has visualizado corresponden a la demanda/generación eléctrica en una región de México para unas fechas muy especificas.\n",
    "\n",
    "a.     Los datos que estas observando son representativas de toda la republica Mexicana. Ahora imagínate que quisiéramos desagregar estos datos a estados o ciudades. Que supuestos harías para poder desagregar estos datos? Que datos y análisis necesitarías recolectar y desarrollar para llevar esto acabo?\n",
    "\n",
    "```\n",
    "**Para desagregar estos datos recolectaria datos de uso de aplicaciones moviles relacionados con su ubicación y estilo de vida (via Google Analytics). Podría hacer supuestos como: De 9AM a 6PM los usuarios con cierto perfil tienden a aglomerarse para trabajar en una zona y que en las horas aledañas utilizan sus telefonos en sus hogares que comprenden otras zonas. Entonces podria utilizar esos datos para dividir a las personas que por ejemplo trabajan en la ciudad pero viven en una provincia y saber hacia que zonas del país canalizar la energia en función del tiempo. Esta idea tambien tiene aplicaciones a celdas celulares ya que se despericia una gran cantidad de energia al surtir de cobertura no necesaria a zonas de baja demanda.**\n",
    "\n",
    "```\n",
    "b.     Que datos utilizarías para generar una proyección de los time series en tu dataframe para otros meses, o el próximo año? Que supuestos harías para llevar este análisis a cabo?\n",
    "\n",
    "```\n",
    "**Buscaría datos que cumplan con las 4 V's del Big Data: Veracidad. Volumen. Variedad y Velocidad. En cuanto a los supuestos no me animo a dar una respuesta inmediata sin haber realizado un analisis con datos que cumplan estas propiedades. Asumo que los datos utilizados en este test no son veraces** \n",
    "\n",
    "```\n",
    "c.     Que factores tomarías en cuenta si quisieras hacer proyecciones para 20 o 30 años en el futuro? (Max. 250 palabras)\n",
    "```\n",
    "**Lo más importante de un analisis de datos es formular la pregunta. Una vez que tenga la pregunta clara y bien definida entonces me enfocaría en demonstrar que tiene una solución, y que esta sea útil. Por ejemplo: Sí hago una proyección a 20 o 30 años con los datos de este test tendría un error demasiado grande y tal vez conteste la pregunta de hacer una predicción pero no dentro de un rango de error y no sería útil.**\n"
   ]
  },
  {
   "cell_type": "markdown",
   "metadata": {},
   "source": [
    "### 6\n",
    "```\n",
    "Lamentablemente, mucha información no esta tan accesible como la que hemos proporcionado en este mini-test. Es por eso que te pedimos que busques tres ligas (PDF, Excel, web link, etc.) donde encuentres datos sobre la generación de electricidad por medio de plantas Hidroeléctricas en México. Si no sabias, México tiene plantas generadoras Hidroeléctricas de gran y pequeña escala y nuestro modelo utiliza ambas.\n",
    "```\n",
    "\n",
    "http://cuentame.inegi.org.mx/mapas/pdf/nacional/tematicos/generacion_energia.pdf\n",
    "\n",
    "https://www.iea.org/statistics/statisticssearch/report/?country=Mexico&product=electricityandheat\n",
    "\n",
    "https://www.wolframalpha.com/input/?i=total+primary+energy+of+Mexico\n",
    "\n",
    "```\n",
    "a.     Que tipo de datos pudiste encontrar relacionado al tamaño / localización / generación / operación (etc.) de estas plantas en México?\n",
    "```\n",
    "**Datos estructurados y no estructurados**\n",
    "```\n",
    "b.     Genera un grafico con los datos que hayas encontrado que te haya parecido interesante.\n",
    "\n",
    "```\n",
    "**Realicé este [Gráfico en Wolfram Alpha](https://www.wolframalpha.com/input/?i=total+primary+energy+of+Mexico+vs+India) La energía en México se importa y exporta. Tambien debemos considerar factores economicos y fenomenos naturales que pueden afectar la demanda de energía de diferentes zonas. ¿Porqué sólo nos enfocamos en México?**"
   ]
  },
  {
   "cell_type": "markdown",
   "metadata": {},
   "source": [
    "### Notas del autor: \n",
    "\n",
    "Este análisis pude haberlo realizado con más limpieza en los datos para obtener mayor veracidad al obtener los resultados. Tambien para los valores nulos pude haber hecho regresiones para obtener valores para los campos nulos. Por cuestiones de tiempo no regresé a corregirlos. Gracias por la lectura. Este es mi primer Jupyter notebook 😄 so..."
   ]
  },
  {
   "cell_type": "code",
   "execution_count": 105,
   "metadata": {
    "collapsed": false
   },
   "outputs": [
    {
     "name": "stdout",
     "output_type": "stream",
     "text": [
      "Hello Jupyter!\n"
     ]
    }
   ],
   "source": [
    "print(\"Hello Jupyter!\")"
   ]
  }
 ],
 "metadata": {
  "kernelspec": {
   "display_name": "Python 3",
   "language": "python",
   "name": "python3"
  },
  "language_info": {
   "codemirror_mode": {
    "name": "ipython",
    "version": 3
   },
   "file_extension": ".py",
   "mimetype": "text/x-python",
   "name": "python",
   "nbconvert_exporter": "python",
   "pygments_lexer": "ipython3",
   "version": "3.5.1"
  }
 },
 "nbformat": 4,
 "nbformat_minor": 0
}
